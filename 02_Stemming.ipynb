{
 "cells": [
  {
   "cell_type": "code",
   "execution_count": 1,
   "metadata": {},
   "outputs": [
    {
     "name": "stderr",
     "output_type": "stream",
     "text": [
      "[nltk_data] Downloading package stopwords to\n",
      "[nltk_data]     C:\\Users\\Aravind\\AppData\\Roaming\\nltk_data...\n",
      "[nltk_data]   Package stopwords is already up-to-date!\n"
     ]
    },
    {
     "data": {
      "text/plain": [
       "True"
      ]
     },
     "execution_count": 1,
     "metadata": {},
     "output_type": "execute_result"
    }
   ],
   "source": [
    "#importing neccesary libraries\n",
    "import nltk\n",
    "from nltk.stem import PorterStemmer\n",
    "from nltk.corpus import stopwords\n",
    "nltk.download('stopwords')"
   ]
  },
  {
   "cell_type": "code",
   "execution_count": 2,
   "metadata": {},
   "outputs": [],
   "source": [
    "#assing speech of elon musk in the text form to a variable named speech\n",
    "speech=\"\"\"Alright, thank you. \n",
    "So, I’ve got about apparently I’ve got about five to six minutes to say the most useful things I can think of. \n",
    "I’m gonna do my best. \n",
    "It was suggested that I distill things down to 3 items. \n",
    "I think I’ll go with four. \n",
    "And I’ll try, I think, I think these are pretty important ones. \n",
    "Some of it may kinda sound like, well you’ve heard them before. \n",
    "But, you know, worth reemphasizing. \n",
    "\n",
    "I think the first is, you need to work, if you, depending on how well you want to do, \n",
    "particularly if you want to start a company, you need to work super hard. \n",
    "So what is super hard mean? \n",
    "Well, when my brother and I were starting our first company, instead of getting an apartment, \n",
    "we just rented a small office and we slept on the couch and we showered in the YMCA. \n",
    "We’re so hard up that we had just one computer. \n",
    "So the website was up during the day, and I was coding at night. \n",
    "7 days a week, all the time. \n",
    "And I, sort of briefly had a girlfriend in that period and in order to be with me, \n",
    "she had to sleep in the office. \n",
    "So, work hard, like, every waking hour. \n",
    "That’s the thing I would say, particularly if you’re starting a company. \n",
    "And I mean, if you do the simple math, you say like somebody else is working 50 hours a week and \n",
    "you’re working 100, you’ll get twice as done, as much done, in the course of the year as the other company. \n",
    "\n",
    "The other thing I’d say is that if you’re creating a company, or if you’re joining a company, \n",
    "the most important thing is to attract great people. \n",
    "So either be with, join a group that’s amazing, that you really respect. \n",
    "Or, if you’re building a company, you’ve got to gather great people. \n",
    "I mean, all a company is is a group of people that have gathered together to create a product or service. \n",
    "So depending upon how talented and hard working that group is, \n",
    "and to the degree in which they are focused cohesively in a good direction, \n",
    "that will determine the success of the company. \n",
    "So, do everything you can to gather great people, if you’re creating a company. \n",
    "\n",
    "Then, I’d say focus on signal over noise. \n",
    "A lot of companies get confused. \n",
    "They spend a lot of money on things that don’t actually make the product better. \n",
    "So, for example, at Tesla, we’ve never spent any money on advertising. \n",
    "We’ve put all the money into R and D and manufacturing and design to try and make the car as good as possible. \n",
    "And, I think that’s the way to go. For any given company, keep thinking about, \n",
    "“Are, these efforts that people are expending, are they resulting in a better product or service?\"\n",
    "And if they’re not, stop those efforts. \n",
    "And then the final thing is, is to sort of, don’t just follow the trend. \n",
    "So, you may have heard me say that it’s good to thinking terms of the physics approach, the first principles. \n",
    "With is, rather than reasoning by analogy, \n",
    "you boil things down to the most fundamental truths you can imagine, and then you reason up from there. \n",
    "And this is a good way to figure out if something really makes sense, or is it just what everybody else is doing. \n",
    "It’s hard to think that way, you can’t think that way about everything. \n",
    "It takes a lot of effort. But if you’re trying to do something new, it’s the best way to thing. \n",
    "And that framework was developed by physicists to figure out counter intuitive things, like quantum mechanics. \n",
    "It’s really a powerful, powerful method. \n",
    "\n",
    "And anyways, so that’s, and then the final thing I would encourage you to do is now is the time to take risks. \n",
    "You don’t have kids, you’re obligations, well! Some of you… Hahaha, you probably don’t have kids. \n",
    "But as you get older, your obligations start to increase. \n",
    "So, and, once you have a family, you start taking risks not just for yourself, but for your family as well. \n",
    "It gets harder to do things that might not work out. So now is the time to do that. \n",
    "Before you have those obligations. So I would encourage you to take risks now, and to do something bold. \n",
    "You won’t regret it. Thank you.... \"\"\""
   ]
  },
  {
   "cell_type": "code",
   "execution_count": 3,
   "metadata": {},
   "outputs": [
    {
     "data": {
      "text/plain": [
       "['Alright, thank you.',\n",
       " 'So, I’ve got about apparently I’ve got about five to six minutes to say the most useful things I can think of.',\n",
       " 'I’m gonna do my best.',\n",
       " 'It was suggested that I distill things down to 3 items.',\n",
       " 'I think I’ll go with four.',\n",
       " 'And I’ll try, I think, I think these are pretty important ones.',\n",
       " 'Some of it may kinda sound like, well you’ve heard them before.',\n",
       " 'But, you know, worth reemphasizing.',\n",
       " 'I think the first is, you need to work, if you, depending on how well you want to do, \\nparticularly if you want to start a company, you need to work super hard.',\n",
       " 'So what is super hard mean?',\n",
       " 'Well, when my brother and I were starting our first company, instead of getting an apartment, \\nwe just rented a small office and we slept on the couch and we showered in the YMCA.',\n",
       " 'We’re so hard up that we had just one computer.',\n",
       " 'So the website was up during the day, and I was coding at night.',\n",
       " '7 days a week, all the time.',\n",
       " 'And I, sort of briefly had a girlfriend in that period and in order to be with me, \\nshe had to sleep in the office.',\n",
       " 'So, work hard, like, every waking hour.',\n",
       " 'That’s the thing I would say, particularly if you’re starting a company.',\n",
       " 'And I mean, if you do the simple math, you say like somebody else is working 50 hours a week and \\nyou’re working 100, you’ll get twice as done, as much done, in the course of the year as the other company.',\n",
       " 'The other thing I’d say is that if you’re creating a company, or if you’re joining a company, \\nthe most important thing is to attract great people.',\n",
       " 'So either be with, join a group that’s amazing, that you really respect.',\n",
       " 'Or, if you’re building a company, you’ve got to gather great people.',\n",
       " 'I mean, all a company is is a group of people that have gathered together to create a product or service.',\n",
       " 'So depending upon how talented and hard working that group is, \\nand to the degree in which they are focused cohesively in a good direction, \\nthat will determine the success of the company.',\n",
       " 'So, do everything you can to gather great people, if you’re creating a company.',\n",
       " 'Then, I’d say focus on signal over noise.',\n",
       " 'A lot of companies get confused.',\n",
       " 'They spend a lot of money on things that don’t actually make the product better.',\n",
       " 'So, for example, at Tesla, we’ve never spent any money on advertising.',\n",
       " 'We’ve put all the money into R and D and manufacturing and design to try and make the car as good as possible.',\n",
       " 'And, I think that’s the way to go.',\n",
       " 'For any given company, keep thinking about, \\n“Are, these efforts that people are expending, are they resulting in a better product or service?\"',\n",
       " 'And if they’re not, stop those efforts.',\n",
       " 'And then the final thing is, is to sort of, don’t just follow the trend.',\n",
       " 'So, you may have heard me say that it’s good to thinking terms of the physics approach, the first principles.',\n",
       " 'With is, rather than reasoning by analogy, \\nyou boil things down to the most fundamental truths you can imagine, and then you reason up from there.',\n",
       " 'And this is a good way to figure out if something really makes sense, or is it just what everybody else is doing.',\n",
       " 'It’s hard to think that way, you can’t think that way about everything.',\n",
       " 'It takes a lot of effort.',\n",
       " 'But if you’re trying to do something new, it’s the best way to thing.',\n",
       " 'And that framework was developed by physicists to figure out counter intuitive things, like quantum mechanics.',\n",
       " 'It’s really a powerful, powerful method.',\n",
       " 'And anyways, so that’s, and then the final thing I would encourage you to do is now is the time to take risks.',\n",
       " 'You don’t have kids, you’re obligations, well!',\n",
       " 'Some of you… Hahaha, you probably don’t have kids.',\n",
       " 'But as you get older, your obligations start to increase.',\n",
       " 'So, and, once you have a family, you start taking risks not just for yourself, but for your family as well.',\n",
       " 'It gets harder to do things that might not work out.',\n",
       " 'So now is the time to do that.',\n",
       " 'Before you have those obligations.',\n",
       " 'So I would encourage you to take risks now, and to do something bold.',\n",
       " 'You won’t regret it.',\n",
       " 'Thank you....']"
      ]
     },
     "execution_count": 3,
     "metadata": {},
     "output_type": "execute_result"
    }
   ],
   "source": [
    "#tokenizing the speech in the form of sentence\n",
    "sentence=nltk.sent_tokenize(speech)\n",
    "sentence"
   ]
  },
  {
   "cell_type": "code",
   "execution_count": 4,
   "metadata": {},
   "outputs": [],
   "source": [
    "#stemming used to convert the words to it stem word ie it has no meaning \n",
    "stemmer=PorterStemmer()\n",
    "#stemming\n",
    "for i in range(len(sentence)):\n",
    "    words=nltk.word_tokenize(sentence[i])\n",
    "    words = [stemmer.stem(word) for word in words if word not in set(stopwords.words('english'))]\n",
    "    sentence[i]=' '.join(words)"
   ]
  },
  {
   "cell_type": "code",
   "execution_count": 5,
   "metadata": {},
   "outputs": [
    {
     "name": "stdout",
     "output_type": "stream",
     "text": [
      "['i', 'me', 'my', 'myself', 'we', 'our', 'ours', 'ourselves', 'you', \"you're\", \"you've\", \"you'll\", \"you'd\", 'your', 'yours', 'yourself', 'yourselves', 'he', 'him', 'his', 'himself', 'she', \"she's\", 'her', 'hers', 'herself', 'it', \"it's\", 'its', 'itself', 'they', 'them', 'their', 'theirs', 'themselves', 'what', 'which', 'who', 'whom', 'this', 'that', \"that'll\", 'these', 'those', 'am', 'is', 'are', 'was', 'were', 'be', 'been', 'being', 'have', 'has', 'had', 'having', 'do', 'does', 'did', 'doing', 'a', 'an', 'the', 'and', 'but', 'if', 'or', 'because', 'as', 'until', 'while', 'of', 'at', 'by', 'for', 'with', 'about', 'against', 'between', 'into', 'through', 'during', 'before', 'after', 'above', 'below', 'to', 'from', 'up', 'down', 'in', 'out', 'on', 'off', 'over', 'under', 'again', 'further', 'then', 'once', 'here', 'there', 'when', 'where', 'why', 'how', 'all', 'any', 'both', 'each', 'few', 'more', 'most', 'other', 'some', 'such', 'no', 'nor', 'not', 'only', 'own', 'same', 'so', 'than', 'too', 'very', 's', 't', 'can', 'will', 'just', 'don', \"don't\", 'should', \"should've\", 'now', 'd', 'll', 'm', 'o', 're', 've', 'y', 'ain', 'aren', \"aren't\", 'couldn', \"couldn't\", 'didn', \"didn't\", 'doesn', \"doesn't\", 'hadn', \"hadn't\", 'hasn', \"hasn't\", 'haven', \"haven't\", 'isn', \"isn't\", 'ma', 'mightn', \"mightn't\", 'mustn', \"mustn't\", 'needn', \"needn't\", 'shan', \"shan't\", 'shouldn', \"shouldn't\", 'wasn', \"wasn't\", 'weren', \"weren't\", 'won', \"won't\", 'wouldn', \"wouldn't\"]\n"
     ]
    }
   ],
   "source": [
    "print(stopwords.words('english'))"
   ]
  },
  {
   "cell_type": "code",
   "execution_count": 6,
   "metadata": {},
   "outputs": [
    {
     "data": {
      "text/plain": [
       "['alright , thank .',\n",
       " 'So , I ’ got appar I ’ got five six minut say use thing I think .',\n",
       " 'I ’ gon na best .',\n",
       " 'It suggest I distil thing 3 item .',\n",
       " 'I think I ’ go four .',\n",
       " 'and I ’ tri , I think , I think pretti import one .',\n",
       " 'some may kinda sound like , well ’ heard .',\n",
       " 'but , know , worth reemphas .',\n",
       " 'I think first , need work , , depend well want , particularli want start compani , need work super hard .',\n",
       " 'So super hard mean ?',\n",
       " 'well , brother I start first compani , instead get apart , rent small offic slept couch shower ymca .',\n",
       " 'We ’ hard one comput .',\n",
       " 'So websit day , I code night .',\n",
       " '7 day week , time .',\n",
       " 'and I , sort briefli girlfriend period order , sleep offic .',\n",
       " 'So , work hard , like , everi wake hour .',\n",
       " 'that ’ thing I would say , particularli ’ start compani .',\n",
       " 'and I mean , simpl math , say like somebodi els work 50 hour week ’ work 100 , ’ get twice done , much done , cours year compani .',\n",
       " 'the thing I ’ say ’ creat compani , ’ join compani , import thing attract great peopl .',\n",
       " 'So either , join group ’ amaz , realli respect .',\n",
       " 'Or , ’ build compani , ’ got gather great peopl .',\n",
       " 'I mean , compani group peopl gather togeth creat product servic .',\n",
       " 'So depend upon talent hard work group , degre focus cohes good direct , determin success compani .',\n",
       " 'So , everyth gather great peopl , ’ creat compani .',\n",
       " 'then , I ’ say focu signal nois .',\n",
       " 'A lot compani get confus .',\n",
       " 'they spend lot money thing ’ actual make product better .',\n",
       " 'So , exampl , tesla , ’ never spent money advertis .',\n",
       " 'We ’ put money R D manufactur design tri make car good possibl .',\n",
       " 'and , I think ’ way go .',\n",
       " \"for given compani , keep think , “ are , effort peopl expend , result better product servic ? ''\",\n",
       " 'and ’ , stop effort .',\n",
       " 'and final thing , sort , ’ follow trend .',\n",
       " 'So , may heard say ’ good think term physic approach , first principl .',\n",
       " 'with , rather reason analog , boil thing fundament truth imagin , reason .',\n",
       " 'and good way figur someth realli make sens , everybodi els .',\n",
       " 'It ’ hard think way , ’ think way everyth .',\n",
       " 'It take lot effort .',\n",
       " 'but ’ tri someth new , ’ best way thing .',\n",
       " 'and framework develop physicist figur counter intuit thing , like quantum mechan .',\n",
       " 'It ’ realli power , power method .',\n",
       " 'and anyway , ’ , final thing I would encourag time take risk .',\n",
       " 'you ’ kid , ’ oblig , well !',\n",
       " 'some you… hahaha , probabl ’ kid .',\n",
       " 'but get older , oblig start increas .',\n",
       " 'So , , famili , start take risk , famili well .',\n",
       " 'It get harder thing might work .',\n",
       " 'So time .',\n",
       " 'befor oblig .',\n",
       " 'So I would encourag take risk , someth bold .',\n",
       " 'you ’ regret .',\n",
       " 'thank ... .']"
      ]
     },
     "execution_count": 6,
     "metadata": {},
     "output_type": "execute_result"
    }
   ],
   "source": [
    "sentence"
   ]
  },
  {
   "cell_type": "code",
   "execution_count": null,
   "metadata": {},
   "outputs": [],
   "source": []
  }
 ],
 "metadata": {
  "kernelspec": {
   "display_name": "Python 3",
   "language": "python",
   "name": "python3"
  },
  "language_info": {
   "codemirror_mode": {
    "name": "ipython",
    "version": 3
   },
   "file_extension": ".py",
   "mimetype": "text/x-python",
   "name": "python",
   "nbconvert_exporter": "python",
   "pygments_lexer": "ipython3",
   "version": "3.7.4"
  }
 },
 "nbformat": 4,
 "nbformat_minor": 2
}
