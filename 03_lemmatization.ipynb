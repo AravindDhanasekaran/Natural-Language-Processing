{
 "cells": [
  {
   "cell_type": "code",
   "execution_count": 2,
   "metadata": {},
   "outputs": [
    {
     "name": "stderr",
     "output_type": "stream",
     "text": [
      "[nltk_data] Downloading package wordnet to\n",
      "[nltk_data]     C:\\Users\\Aravind\\AppData\\Roaming\\nltk_data...\n",
      "[nltk_data]   Package wordnet is already up-to-date!\n"
     ]
    },
    {
     "data": {
      "text/plain": [
       "True"
      ]
     },
     "execution_count": 2,
     "metadata": {},
     "output_type": "execute_result"
    }
   ],
   "source": [
    "#importing neccesary libraries\n",
    "import nltk\n",
    "from nltk.stem import WordNetLemmatizer\n",
    "from nltk.corpus import stopwords\n",
    "nltk.download('wordnet')"
   ]
  },
  {
   "cell_type": "code",
   "execution_count": 3,
   "metadata": {},
   "outputs": [],
   "source": [
    "#assing speech of elon musk in the text form to a variable named speech\n",
    "speech=\"\"\"Alright, thank you. \n",
    "So, I’ve got about apparently I’ve got about five to six minutes to say the most useful things I can think of. \n",
    "I’m gonna do my best. \n",
    "It was suggested that I distill things down to 3 items. \n",
    "I think I’ll go with four. \n",
    "And I’ll try, I think, I think these are pretty important ones. \n",
    "Some of it may kinda sound like, well you’ve heard them before. \n",
    "But, you know, worth reemphasizing. \n",
    "\n",
    "I think the first is, you need to work, if you, depending on how well you want to do, \n",
    "particularly if you want to start a company, you need to work super hard. \n",
    "So what is super hard mean? \n",
    "Well, when my brother and I were starting our first company, instead of getting an apartment, \n",
    "we just rented a small office and we slept on the couch and we showered in the YMCA. \n",
    "We’re so hard up that we had just one computer. \n",
    "So the website was up during the day, and I was coding at night. \n",
    "7 days a week, all the time. \n",
    "And I, sort of briefly had a girlfriend in that period and in order to be with me, \n",
    "she had to sleep in the office. \n",
    "So, work hard, like, every waking hour. \n",
    "That’s the thing I would say, particularly if you’re starting a company. \n",
    "And I mean, if you do the simple math, you say like somebody else is working 50 hours a week and \n",
    "you’re working 100, you’ll get twice as done, as much done, in the course of the year as the other company. \n",
    "\n",
    "The other thing I’d say is that if you’re creating a company, or if you’re joining a company, \n",
    "the most important thing is to attract great people. \n",
    "So either be with, join a group that’s amazing, that you really respect. \n",
    "Or, if you’re building a company, you’ve got to gather great people. \n",
    "I mean, all a company is is a group of people that have gathered together to create a product or service. \n",
    "So depending upon how talented and hard working that group is, \n",
    "and to the degree in which they are focused cohesively in a good direction, \n",
    "that will determine the success of the company. \n",
    "So, do everything you can to gather great people, if you’re creating a company. \n",
    "\n",
    "Then, I’d say focus on signal over noise. \n",
    "A lot of companies get confused. \n",
    "They spend a lot of money on things that don’t actually make the product better. \n",
    "So, for example, at Tesla, we’ve never spent any money on advertising. \n",
    "We’ve put all the money into R and D and manufacturing and design to try and make the car as good as possible. \n",
    "And, I think that’s the way to go. For any given company, keep thinking about, \n",
    "“Are, these efforts that people are expending, are they resulting in a better product or service?\"\n",
    "And if they’re not, stop those efforts. \n",
    "And then the final thing is, is to sort of, don’t just follow the trend. \n",
    "So, you may have heard me say that it’s good to thinking terms of the physics approach, the first principles. \n",
    "With is, rather than reasoning by analogy, \n",
    "you boil things down to the most fundamental truths you can imagine, and then you reason up from there. \n",
    "And this is a good way to figure out if something really makes sense, or is it just what everybody else is doing. \n",
    "It’s hard to think that way, you can’t think that way about everything. \n",
    "It takes a lot of effort. But if you’re trying to do something new, it’s the best way to thing. \n",
    "And that framework was developed by physicists to figure out counter intuitive things, like quantum mechanics. \n",
    "It’s really a powerful, powerful method. \n",
    "\n",
    "And anyways, so that’s, and then the final thing I would encourage you to do is now is the time to take risks. \n",
    "You don’t have kids, you’re obligations, well! Some of you… Hahaha, you probably don’t have kids. \n",
    "But as you get older, your obligations start to increase. \n",
    "So, and, once you have a family, you start taking risks not just for yourself, but for your family as well. \n",
    "It gets harder to do things that might not work out. So now is the time to do that. \n",
    "Before you have those obligations. So I would encourage you to take risks now, and to do something bold. \n",
    "You won’t regret it. Thank you.... \"\"\""
   ]
  },
  {
   "cell_type": "code",
   "execution_count": 4,
   "metadata": {},
   "outputs": [],
   "source": [
    "#tokenizing the speech in the form of sentence\n",
    "sentence=nltk.sent_tokenize(speech)"
   ]
  },
  {
   "cell_type": "code",
   "execution_count": 5,
   "metadata": {},
   "outputs": [],
   "source": [
    "#lemmatization\n",
    "lem=WordNetLemmatizer()\n",
    "for i in range(len(sentence)):\n",
    "    words=nltk.word_tokenize(sentence[i])\n",
    "    words = [lem.lemmatize(word) for word in words if word not in set(stopwords.words('english'))]\n",
    "    sentence[i]=' '.join(words)"
   ]
  },
  {
   "cell_type": "code",
   "execution_count": 6,
   "metadata": {},
   "outputs": [
    {
     "data": {
      "text/plain": [
       "['Alright , thank .',\n",
       " 'So , I ’ got apparently I ’ got five six minute say useful thing I think .',\n",
       " 'I ’ gon na best .',\n",
       " 'It suggested I distill thing 3 item .',\n",
       " 'I think I ’ go four .',\n",
       " 'And I ’ try , I think , I think pretty important one .',\n",
       " 'Some may kinda sound like , well ’ heard .',\n",
       " 'But , know , worth reemphasizing .',\n",
       " 'I think first , need work , , depending well want , particularly want start company , need work super hard .',\n",
       " 'So super hard mean ?',\n",
       " 'Well , brother I starting first company , instead getting apartment , rented small office slept couch showered YMCA .',\n",
       " 'We ’ hard one computer .',\n",
       " 'So website day , I coding night .',\n",
       " '7 day week , time .',\n",
       " 'And I , sort briefly girlfriend period order , sleep office .',\n",
       " 'So , work hard , like , every waking hour .',\n",
       " 'That ’ thing I would say , particularly ’ starting company .',\n",
       " 'And I mean , simple math , say like somebody else working 50 hour week ’ working 100 , ’ get twice done , much done , course year company .',\n",
       " 'The thing I ’ say ’ creating company , ’ joining company , important thing attract great people .',\n",
       " 'So either , join group ’ amazing , really respect .',\n",
       " 'Or , ’ building company , ’ got gather great people .',\n",
       " 'I mean , company group people gathered together create product service .',\n",
       " 'So depending upon talented hard working group , degree focused cohesively good direction , determine success company .',\n",
       " 'So , everything gather great people , ’ creating company .',\n",
       " 'Then , I ’ say focus signal noise .',\n",
       " 'A lot company get confused .',\n",
       " 'They spend lot money thing ’ actually make product better .',\n",
       " 'So , example , Tesla , ’ never spent money advertising .',\n",
       " 'We ’ put money R D manufacturing design try make car good possible .',\n",
       " 'And , I think ’ way go .',\n",
       " \"For given company , keep thinking , “ Are , effort people expending , resulting better product service ? ''\",\n",
       " 'And ’ , stop effort .',\n",
       " 'And final thing , sort , ’ follow trend .',\n",
       " 'So , may heard say ’ good thinking term physic approach , first principle .',\n",
       " 'With , rather reasoning analogy , boil thing fundamental truth imagine , reason .',\n",
       " 'And good way figure something really make sense , everybody else .',\n",
       " 'It ’ hard think way , ’ think way everything .',\n",
       " 'It take lot effort .',\n",
       " 'But ’ trying something new , ’ best way thing .',\n",
       " 'And framework developed physicist figure counter intuitive thing , like quantum mechanic .',\n",
       " 'It ’ really powerful , powerful method .',\n",
       " 'And anyways , ’ , final thing I would encourage time take risk .',\n",
       " 'You ’ kid , ’ obligation , well !',\n",
       " 'Some you… Hahaha , probably ’ kid .',\n",
       " 'But get older , obligation start increase .',\n",
       " 'So , , family , start taking risk , family well .',\n",
       " 'It get harder thing might work .',\n",
       " 'So time .',\n",
       " 'Before obligation .',\n",
       " 'So I would encourage take risk , something bold .',\n",
       " 'You ’ regret .',\n",
       " 'Thank ... .']"
      ]
     },
     "execution_count": 6,
     "metadata": {},
     "output_type": "execute_result"
    }
   ],
   "source": [
    "sentence"
   ]
  },
  {
   "cell_type": "code",
   "execution_count": null,
   "metadata": {},
   "outputs": [],
   "source": []
  }
 ],
 "metadata": {
  "kernelspec": {
   "display_name": "Python 3",
   "language": "python",
   "name": "python3"
  },
  "language_info": {
   "codemirror_mode": {
    "name": "ipython",
    "version": 3
   },
   "file_extension": ".py",
   "mimetype": "text/x-python",
   "name": "python",
   "nbconvert_exporter": "python",
   "pygments_lexer": "ipython3",
   "version": "3.7.4"
  }
 },
 "nbformat": 4,
 "nbformat_minor": 2
}
